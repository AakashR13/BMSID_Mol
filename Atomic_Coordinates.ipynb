{
 "cells": [
  {
   "cell_type": "markdown",
   "metadata": {},
   "source": [
    "# BMSID Coding Assignment"
   ]
  },
  {
   "cell_type": "markdown",
   "metadata": {},
   "source": [
    "### Calculate the coordinates of the 4th Atom D, given the coordinates of the preceding three atoms A, B and C as well as the bond length C-D, bond angle B-C-D and the torsion angle around the bond B-C. "
   ]
  },
  {
   "cell_type": "markdown",
   "metadata": {},
   "source": [
    "### Library Imports"
   ]
  },
  {
   "cell_type": "code",
   "execution_count": null,
   "metadata": {},
   "outputs": [],
   "source": [
    "import numpy as np"
   ]
  },
  {
   "cell_type": "markdown",
   "metadata": {},
   "source": [
    "### Main Function"
   ]
  },
  {
   "cell_type": "code",
   "execution_count": null,
   "metadata": {},
   "outputs": [],
   "source": [
    "def calculate_atom_d_coordinates(A, B, C, bond_length_CD, bond_angle_BCD, torsion_angle_BC):\n",
    "    # Convert angles to radians\n",
    "    bond_angle_BCD = np.radians(bond_angle_BCD)\n",
    "    torsion_angle_BC = np.radians(torsion_angle_BC)\n",
    "\n",
    "    # Calculate unit vectors\n",
    "    AB = normalize(B - A)\n",
    "    BC = normalize(C - B)\n",
    "\n",
    "    # Calculate perpendicular vector to BC in the plane defined by AB and BC\n",
    "    perpendicular_vector = np.cross(AB, BC)\n",
    "\n",
    "    # Calculate rotation matrix based on bond angle\n",
    "    rotation_matrix = rotate_matrix(BC, bond_angle_BCD)\n",
    "\n",
    "    # Rotate perpendicular_vector by the rotation matrix\n",
    "    rotated_perpendicular_vector = np.dot(rotation_matrix, perpendicular_vector)\n",
    "\n",
    "    # Scale the rotated perpendicular vector by the bond length to get CD vector\n",
    "    CD = scale(rotated_perpendicular_vector, bond_length_CD)\n",
    "\n",
    "    # Create rotation matrix for torsion angle around BC\n",
    "    torsion_rotation_matrix = rotate_matrix(BC, torsion_angle_BC)\n",
    "\n",
    "    # Rotate CD vector by the torsion matrix\n",
    "    rotated_CD = np.dot(torsion_rotation_matrix, CD)\n",
    "\n",
    "    # Calculate D coordinates\n",
    "    D = C + rotated_CD\n",
    "\n",
    "    return D"
   ]
  },
  {
   "cell_type": "markdown",
   "metadata": {},
   "source": [
    "### Helper Functions"
   ]
  },
  {
   "cell_type": "code",
   "execution_count": null,
   "metadata": {},
   "outputs": [],
   "source": [
    "def normalize(vector):\n",
    "    return vector / np.linalg.norm(vector)"
   ]
  },
  {
   "cell_type": "code",
   "execution_count": null,
   "metadata": {},
   "outputs": [],
   "source": [
    "def rotate_matrix(axis, angle):\n",
    "    # Implement rotation matrix calculation based on axis and angle\n",
    "    norm_axis = normalize(axis)\n",
    "    cos_angle = np.cos(angle)\n",
    "    sin_angle = np.sin(angle)\n",
    "    x, y, z = norm_axis\n",
    "\n",
    "    rotation_matrix = np.array([\n",
    "        [cos_angle + (1 - cos_angle) * x**2, (1 - cos_angle) * x * y - sin_angle * z, (1 - cos_angle) * x * z + sin_angle * y],\n",
    "        [(1 - cos_angle) * x * y + sin_angle * z, cos_angle + (1 - cos_angle) * y**2, (1 - cos_angle) * y * z - sin_angle * x],\n",
    "        [(1 - cos_angle) * x * z - sin_angle * y, (1 - cos_angle) * y * z + sin_angle * x, cos_angle + (1 - cos_angle) * z**2]\n",
    "    ])\n",
    "\n",
    "    return rotation_matrix"
   ]
  },
  {
   "cell_type": "code",
   "execution_count": null,
   "metadata": {},
   "outputs": [],
   "source": [
    "def scale(vector, factor):\n",
    "    return vector * factor"
   ]
  },
  {
   "cell_type": "markdown",
   "metadata": {},
   "source": [
    "### Lookup Tables"
   ]
  },
  {
   "cell_type": "code",
   "execution_count": null,
   "metadata": {},
   "outputs": [],
   "source": [
    "lookup_table = {\n",
    "    'N': {'coordinates': [0, 0, 0], 'charge': 11.76},\n",
    "    'CA': {'coordinates': [1.453, 0, 0], 'charge': 11.14},\n",
    "    'C': {'coordinates': [1.959, -0.628, -1.3], 'charge': 10},\n",
    "    'O': {'coordinates': [1.187, -1.232, -2.044], 'charge': 10.19},\n",
    "    'CB': {'coordinates': [2.004, -0.822, 1.167], 'charge': 11.96},\n",
    "    'CG': {'coordinates': [1.597, -2.297, 1.168], 'charge': 12.21},\n",
    "    'OD1': {'coordinates': [0.546, -2.596, 0.561], 'charge': 12.29},\n",
    "    'OD2': {'coordinates': [2.347, -3.092, 1.775], 'charge': 12.64},\n",
    "    'H1': {'coordinates': [-0.338, 0.478, -0.828], 'charge': 11.85},\n",
    "    'H2': {'coordinates': [-0.338, -0.956, 0], 'charge': 11.98},\n",
    "    'H3': {'coordinates': [-0.338, 0.478, 0.828], 'charge': 12.28},\n",
    "    'HA': {'coordinates': [1.739, 1.047, 0.097], 'charge': 11.47},\n",
    "    'HB2': {'coordinates': [3.092, -0.76, 1.153], 'charge': 12.08},\n",
    "    'HB3': {'coordinates': [1.671, -0.368, 2.101], 'charge': 12.83}\n",
    "}\n",
    "\n",
    "# Example usage\n",
    "atom_type = 'N'\n",
    "print(\"Coordinates of Atom {}: {}\".format(atom_type, lookup_table[atom_type]['coordinates']))\n",
    "print(\"Charge of Atom {}: {}\".format(atom_type, lookup_table[atom_type]['charge']))\n"
   ]
  },
  {
   "cell_type": "markdown",
   "metadata": {},
   "source": [
    "### Usage:"
   ]
  },
  {
   "cell_type": "code",
   "execution_count": null,
   "metadata": {},
   "outputs": [],
   "source": [
    "A = np.array([0, 0, 0])\n",
    "B = np.array([1.453, 0, 0])\n",
    "C = np.array([1.959, -0.628, -1.3])\n",
    "bond_length_CD = 1.0  # Replace with the actual bond length\n",
    "bond_angle_BCD = 110.0  # Replace with the actual bond angle\n",
    "torsion_angle_BC = 120.0  # Replace with the actual torsion angle\n",
    "\n",
    "D = calculate_atom_d_coordinates(A, B, C, bond_length_CD, bond_angle_BCD, torsion_angle_BC)\n",
    "print(\"Coordinates of Atom D:\", D)"
   ]
  }
 ],
 "metadata": {
  "language_info": {
   "name": "python"
  }
 },
 "nbformat": 4,
 "nbformat_minor": 2
}
